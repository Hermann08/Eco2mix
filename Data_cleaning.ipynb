version https://git-lfs.github.com/spec/v1
oid sha256:cc50ece8aa8458495376c20e50d73e74c435925b7f15af37902bcb28a8165167
size 24690
